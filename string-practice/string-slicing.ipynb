{
 "cells": [
  {
   "cell_type": "markdown",
   "metadata": {},
   "source": [
    "Hi all! Here is a little walkthrough to go over some Python specific syntax for string slicing.\n"
   ]
  },
  {
   "cell_type": "code",
   "execution_count": null,
   "metadata": {},
   "outputs": [],
   "source": [
    "# setup example\n",
    "str = \"Hello world, welcome to Python!\""
   ]
  },
  {
   "cell_type": "markdown",
   "metadata": {},
   "source": [
    "Python has some interesting syntax for slicing strings. You may encounter this in your company's code or find it useful for certain functions."
   ]
  },
  {
   "cell_type": "code",
   "execution_count": null,
   "metadata": {},
   "outputs": [],
   "source": [
    "# print out the first 5 characters in str\n",
    "print(str[:5])"
   ]
  },
  {
   "cell_type": "code",
   "execution_count": null,
   "metadata": {},
   "outputs": [],
   "source": [
    "# print out the last 5 characters in str\n",
    "print(str[-5:])"
   ]
  },
  {
   "cell_type": "code",
   "execution_count": null,
   "metadata": {},
   "outputs": [],
   "source": [
    "# print out all characters except the last 5\n",
    "print(str[:-5])"
   ]
  },
  {
   "cell_type": "code",
   "execution_count": null,
   "metadata": {},
   "outputs": [],
   "source": [
    "# print out all but the first 5 characters\n",
    "print(str[5:])"
   ]
  },
  {
   "cell_type": "markdown",
   "metadata": {},
   "source": [
    "Alright, now here are some exercises for you to try it out!"
   ]
  },
  {
   "cell_type": "code",
   "execution_count": null,
   "metadata": {},
   "outputs": [],
   "source": [
    "# setup\n",
    "str = \"My sister graduates from high school in June!\""
   ]
  },
  {
   "cell_type": "code",
   "execution_count": null,
   "metadata": {},
   "outputs": [],
   "source": [
    "# get the last 8 characters in this string\n",
    "last_eight = \"CODE HERE\"\n",
    "\n",
    "assert last_eight == \"in June!\""
   ]
  },
  {
   "cell_type": "code",
   "execution_count": null,
   "metadata": {},
   "outputs": [],
   "source": [
    "# get the 5th to the 12th characters (inclusive) in the string below\n",
    "str = \"supercalifragilisticexpialidocious\"\n",
    "\n",
    "middle_section = \"CODE HERE\"\n",
    "\n",
    "assert middle_section == \"rcalifra\""
   ]
  },
  {
   "cell_type": "markdown",
   "metadata": {},
   "source": [
    "Now that we've practiced this syntax with strings, we can actually apply the same syntax to lists!"
   ]
  },
  {
   "cell_type": "code",
   "execution_count": null,
   "metadata": {},
   "outputs": [],
   "source": [
    "# setup for arrays -- heads up, you can have different types within the same list\n",
    "testList = [1, 2, \"pursuit\", 4, \"nyc\", 6, 7, 8, \"nine\", \"ten\"]"
   ]
  },
  {
   "cell_type": "code",
   "execution_count": null,
   "metadata": {},
   "outputs": [],
   "source": [
    "# get the first 3 elements stored in the testList\n",
    "\n",
    "first_three_elements = \"CODE HERE\"\n",
    "\n",
    "assert first_three_elements == [1, 2, \"pursuit\"]"
   ]
  },
  {
   "cell_type": "code",
   "execution_count": null,
   "metadata": {},
   "outputs": [],
   "source": [
    "# get the last 4 elements of testList\n",
    "\n",
    "last_four_elements = \"CODE HERE\"\n",
    "\n",
    "assert last_four_elements == [7, 8, \"nine\", \"ten\"]"
   ]
  },
  {
   "cell_type": "markdown",
   "metadata": {},
   "source": [
    "In python, lists and strings actually have a lot of overlapping functionality (slicing, indexing, and more...)\n",
    "\n",
    "Now we're going to put some of this new knowledge to the test.\n",
    "\n",
    "Hint: https://www.freecodecamp.org/news/python-string-split-and-join-methods-explained-with-examples/ "
   ]
  },
  {
   "cell_type": "code",
   "execution_count": 1,
   "metadata": {},
   "outputs": [],
   "source": [
    "# setup\n",
    "str = \"My sister graduates from high school in June!\""
   ]
  },
  {
   "cell_type": "code",
   "execution_count": null,
   "metadata": {},
   "outputs": [],
   "source": [
    "# get the first 3 words in this string -- there is a one-line solution but feel free to break it out to help you think through the question\n",
    "first_three_words = \"CODE HERE\"\n",
    "\n",
    "assert first_three_words == \"My sister graduates\""
   ]
  },
  {
   "cell_type": "code",
   "execution_count": 31,
   "metadata": {},
   "outputs": [],
   "source": [
    "import re # hint: you can use a regex to remove anything like an exclamation point\n",
    "\n",
    "# get an array of all words in the string that are at least 5 characters long\n",
    "five_char_words = \"CODE HERE\"\n",
    "\n",
    "assert 'sister' in five_char_words and 'school' in five_char_words and 'graduates' in five_char_words\n",
    "assert \"June!\" not in five_char_words and \"June\" not in five_char_words"
   ]
  }
 ],
 "metadata": {
  "interpreter": {
   "hash": "b0fa6594d8f4cbf19f97940f81e996739fb7646882a419484c72d19e05852a7e"
  },
  "kernelspec": {
   "display_name": "Python 3.9.12 64-bit",
   "language": "python",
   "name": "python3"
  },
  "language_info": {
   "codemirror_mode": {
    "name": "ipython",
    "version": 3
   },
   "file_extension": ".py",
   "mimetype": "text/x-python",
   "name": "python",
   "nbconvert_exporter": "python",
   "pygments_lexer": "ipython3",
   "version": "3.9.12"
  },
  "orig_nbformat": 4
 },
 "nbformat": 4,
 "nbformat_minor": 2
}
