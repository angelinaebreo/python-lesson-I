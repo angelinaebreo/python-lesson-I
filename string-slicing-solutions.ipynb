{
 "cells": [
  {
   "cell_type": "code",
   "execution_count": 2,
   "metadata": {},
   "outputs": [],
   "source": [
    "##### setup\n",
    "str = \"My sister graduates from high school in June!\"\n",
    "\n",
    "# get the last 8 characters in this string\n",
    "last_eight = str[-8:]\n",
    "\n",
    "assert last_eight == \"in June!\"\n",
    "\n",
    "# get the 5th to the 12th characters (inclusive, spaces included) in the string below\n",
    "str = \"supercalifragilisticexpialidocious\"\n",
    "\n",
    "middle_section = str[4:12] # hint: the 5th character is at index 4, and the end is not inclusive (so 12th index is not included but 11th index / 12th character is)\n",
    "\n",
    "assert middle_section == \"rcalifra\"\n",
    "\n",
    "##### setup for arrays -- heads up, you can have different types within the same list\n",
    "testList = [1, 2, \"pursuit\", 4, \"nyc\", 6, 7, 8, \"nine\", \"ten\"]\n",
    "\n",
    "# get the first 3 elements stored in the testList\n",
    "first_three_elements = testList[:3]\n",
    "\n",
    "assert first_three_elements == [1, 2, \"pursuit\"]\n",
    "\n",
    "##### setup for last section\n",
    "str = \"My sister graduates from high school in June!\"\n",
    "\n",
    "# get the first 3 words in this string\n",
    "first_three_words = ' '.join(str.split(' ')[:3])\n",
    "\n",
    "assert first_three_words == \"My sister graduates\""
   ]
  }
 ],
 "metadata": {
  "interpreter": {
   "hash": "b0fa6594d8f4cbf19f97940f81e996739fb7646882a419484c72d19e05852a7e"
  },
  "kernelspec": {
   "display_name": "Python 3.9.12 64-bit",
   "language": "python",
   "name": "python3"
  },
  "language_info": {
   "codemirror_mode": {
    "name": "ipython",
    "version": 3
   },
   "file_extension": ".py",
   "mimetype": "text/x-python",
   "name": "python",
   "nbconvert_exporter": "python",
   "pygments_lexer": "ipython3",
   "version": "3.9.12"
  },
  "orig_nbformat": 4
 },
 "nbformat": 4,
 "nbformat_minor": 2
}
