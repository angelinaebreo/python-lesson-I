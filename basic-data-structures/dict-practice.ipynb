{
 "cells": [
  {
   "cell_type": "markdown",
   "metadata": {},
   "source": [
    "Python dictionaries follow the same structure as Javascript objects. \n",
    "\n",
    "\"Dictionary is a collection which is ordered** and changeable. No duplicate members.\""
   ]
  },
  {
   "cell_type": "code",
   "execution_count": null,
   "metadata": {},
   "outputs": [],
   "source": [
    "# setup\n",
    "user = {\n",
    "    \"firstName\": \"Billy\",\n",
    "    \"lastName\": \"Taggart\",\n",
    "    \"email\": \"billy@pursuit.com\"\n",
    "}"
   ]
  },
  {
   "cell_type": "markdown",
   "metadata": {},
   "source": [
    "Here are the two ways to quickly add elements to dictionaries..."
   ]
  },
  {
   "cell_type": "code",
   "execution_count": null,
   "metadata": {},
   "outputs": [],
   "source": [
    "user['phoneNumber'] = '3012579853'\n",
    "\n",
    "# or\n",
    "\n",
    "user.update({\n",
    "    \"firstName\": \"William\",\n",
    "    \"middleName\": \"Polacheck\"\n",
    "})"
   ]
  },
  {
   "cell_type": "markdown",
   "metadata": {},
   "source": [
    "And here are the two ways to quickly delete elements from dictionaries..."
   ]
  },
  {
   "cell_type": "code",
   "execution_count": null,
   "metadata": {},
   "outputs": [],
   "source": [
    "user.pop('phoneNumber')\n",
    "\n",
    "# or\n",
    "\n",
    "del user['middleName']"
   ]
  },
  {
   "cell_type": "markdown",
   "metadata": {},
   "source": [
    "Now lets look at iterating through a dictionary."
   ]
  },
  {
   "cell_type": "code",
   "execution_count": null,
   "metadata": {},
   "outputs": [],
   "source": [
    "for i in user: \n",
    "    # this will loop through all of the keys in the user dictionary\n",
    "    print(i)"
   ]
  },
  {
   "cell_type": "markdown",
   "metadata": {},
   "source": [
    "However we have three methods at our disposal to determine which iterable to loop through"
   ]
  },
  {
   "cell_type": "code",
   "execution_count": null,
   "metadata": {},
   "outputs": [],
   "source": [
    "# returns an iterable of keys in the dict\n",
    "print(user.keys())\n",
    "\n",
    "# returns an iterable of the values in the dict\n",
    "print(user.values())\n",
    "\n",
    "# returns an iterable of tuples (key, value) in the dict\n",
    "print(user.items())"
   ]
  },
  {
   "cell_type": "markdown",
   "metadata": {},
   "source": [
    "Each of these methods can be used in conjunction with a for loop so you can loop over keys, values, or tuples of key, value"
   ]
  }
 ],
 "metadata": {
  "language_info": {
   "name": "python"
  },
  "orig_nbformat": 4
 },
 "nbformat": 4,
 "nbformat_minor": 2
}
