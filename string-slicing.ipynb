{
 "cells": [
  {
   "cell_type": "markdown",
   "metadata": {},
   "source": [
    "Hi all! Here is a little walkthrough to go over some Python specific syntax for string slicing.\n"
   ]
  },
  {
   "cell_type": "code",
   "execution_count": 4,
   "metadata": {},
   "outputs": [],
   "source": [
    "# setup example\n",
    "str = \"Hello world, welcome to Python!\""
   ]
  },
  {
   "cell_type": "markdown",
   "metadata": {},
   "source": [
    "Python has some interesting syntax for slicing strings. You may encounter this in your company's code or find it useful for certain functions."
   ]
  },
  {
   "cell_type": "code",
   "execution_count": 10,
   "metadata": {},
   "outputs": [
    {
     "name": "stdout",
     "output_type": "stream",
     "text": [
      "Hello\n"
     ]
    }
   ],
   "source": [
    "# print out the first 5 characters in str\n",
    "print(str[:5])"
   ]
  },
  {
   "cell_type": "code",
   "execution_count": 11,
   "metadata": {},
   "outputs": [
    {
     "name": "stdout",
     "output_type": "stream",
     "text": [
      "thon!\n"
     ]
    }
   ],
   "source": [
    "# print out the last 5 characters in str\n",
    "print(str[-5:])"
   ]
  },
  {
   "cell_type": "code",
   "execution_count": 12,
   "metadata": {},
   "outputs": [
    {
     "name": "stdout",
     "output_type": "stream",
     "text": [
      "Hello world, welcome to Py\n"
     ]
    }
   ],
   "source": [
    "# print out all characters except the last 5\n",
    "print(str[:-5])"
   ]
  },
  {
   "cell_type": "code",
   "execution_count": 13,
   "metadata": {},
   "outputs": [
    {
     "name": "stdout",
     "output_type": "stream",
     "text": [
      " world, welcome to Python!\n"
     ]
    }
   ],
   "source": [
    "# print out all but the first 5 characters\n",
    "print(str[5:])"
   ]
  },
  {
   "cell_type": "markdown",
   "metadata": {},
   "source": [
    "Alright, now here are some exercises for you to try it out!"
   ]
  },
  {
   "cell_type": "code",
   "execution_count": 15,
   "metadata": {},
   "outputs": [],
   "source": [
    "# setup\n",
    "str = \"My sister graduates from high school in June!\""
   ]
  },
  {
   "cell_type": "code",
   "execution_count": 16,
   "metadata": {},
   "outputs": [],
   "source": [
    "# get the last 8 characters in this string\n",
    "last_eight = \"CODE HERE\"\n",
    "\n",
    "assert last_eight == \"in June!\""
   ]
  },
  {
   "cell_type": "code",
   "execution_count": 22,
   "metadata": {},
   "outputs": [
    {
     "name": "stdout",
     "output_type": "stream",
     "text": [
      "ister gr\n"
     ]
    }
   ],
   "source": [
    "# get the 5th to the 12th characters (inclusive, spaces included) in the string below\n",
    "str = \"supercalifragilisticexpialidocious\"\n",
    "\n",
    "middle_section = \"CODE HERE\"\n",
    "\n",
    "assert middle_section == \"rcalifra\""
   ]
  },
  {
   "cell_type": "markdown",
   "metadata": {},
   "source": [
    "Now that we've practiced this syntax with strings, we can actually apply the same syntax to lists!"
   ]
  },
  {
   "cell_type": "code",
   "execution_count": 27,
   "metadata": {},
   "outputs": [],
   "source": [
    "# setup for arrays -- heads up, you can have different types within the same list\n",
    "testList = [1, 2, \"pursuit\", 4, \"nyc\", 6, 7, 8, \"nine\", \"ten\"]"
   ]
  },
  {
   "cell_type": "code",
   "execution_count": 28,
   "metadata": {},
   "outputs": [],
   "source": [
    "# get the first 3 elements stored in the testList\n",
    "\n",
    "first_three_elements = \"CODE HERE\"\n",
    "\n",
    "assert first_three_elements == [1, 2, \"pursuit\"]"
   ]
  },
  {
   "cell_type": "markdown",
   "metadata": {},
   "source": [
    "In python, lists and strings actually have a lot of overlapping functionality (slicing, indexing, and more...)\n",
    "\n",
    "Now we're going to put some of this new knowledge to the test. Each of these next problems has a one line solution, but feel free to break it out into multiple lines if that helps you think through the problem."
   ]
  },
  {
   "cell_type": "code",
   "execution_count": 30,
   "metadata": {},
   "outputs": [],
   "source": [
    "# setup\n",
    "str = \"My sister graduates from high school in June!\""
   ]
  },
  {
   "cell_type": "code",
   "execution_count": 31,
   "metadata": {},
   "outputs": [
    {
     "ename": "AssertionError",
     "evalue": "",
     "output_type": "error",
     "traceback": [
      "\u001b[0;31m---------------------------------------------------------------------------\u001b[0m",
      "\u001b[0;31mAssertionError\u001b[0m                            Traceback (most recent call last)",
      "\u001b[1;32m/Users/billytaggart/Documents/Pursuit/python-lesson-I/string-slicing.ipynb Cell 17'\u001b[0m in \u001b[0;36m<cell line: 4>\u001b[0;34m()\u001b[0m\n\u001b[1;32m      <a href='vscode-notebook-cell:/Users/billytaggart/Documents/Pursuit/python-lesson-I/string-slicing.ipynb#ch0000013?line=0'>1</a>\u001b[0m \u001b[39m# get the first 3 words in this string\u001b[39;00m\n\u001b[1;32m      <a href='vscode-notebook-cell:/Users/billytaggart/Documents/Pursuit/python-lesson-I/string-slicing.ipynb#ch0000013?line=1'>2</a>\u001b[0m first_three_words \u001b[39m=\u001b[39m \u001b[39m\"\u001b[39m\u001b[39mCODE HERE\u001b[39m\u001b[39m\"\u001b[39m\n\u001b[0;32m----> <a href='vscode-notebook-cell:/Users/billytaggart/Documents/Pursuit/python-lesson-I/string-slicing.ipynb#ch0000013?line=3'>4</a>\u001b[0m \u001b[39massert\u001b[39;00m first_three_words \u001b[39m==\u001b[39m \u001b[39m\"\u001b[39m\u001b[39mMy sister graduates\u001b[39m\u001b[39m\"\u001b[39m\n",
      "\u001b[0;31mAssertionError\u001b[0m: "
     ]
    }
   ],
   "source": [
    "# get the first 3 words in this string\n",
    "first_three_words = \"CODE HERE\"\n",
    "\n",
    "assert first_three_words == \"My sister graduates\""
   ]
  }
 ],
 "metadata": {
  "interpreter": {
   "hash": "b0fa6594d8f4cbf19f97940f81e996739fb7646882a419484c72d19e05852a7e"
  },
  "kernelspec": {
   "display_name": "Python 3.9.12 64-bit",
   "language": "python",
   "name": "python3"
  },
  "language_info": {
   "codemirror_mode": {
    "name": "ipython",
    "version": 3
   },
   "file_extension": ".py",
   "mimetype": "text/x-python",
   "name": "python",
   "nbconvert_exporter": "python",
   "pygments_lexer": "ipython3",
   "version": "3.9.12"
  },
  "orig_nbformat": 4
 },
 "nbformat": 4,
 "nbformat_minor": 2
}
